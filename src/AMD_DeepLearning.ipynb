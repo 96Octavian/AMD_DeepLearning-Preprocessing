{
  "nbformat": 4,
  "nbformat_minor": 0,
  "metadata": {
    "colab": {
      "name": "AMD_DeepLearning.ipynb",
      "provenance": [],
      "collapsed_sections": []
    },
    "kernelspec": {
      "name": "python3",
      "display_name": "Python 3"
    },
    "language_info": {
      "name": "python"
    }
  },
  "cells": [
    {
      "cell_type": "markdown",
      "source": [
        "# Setup"
      ],
      "metadata": {
        "id": "ewSz_d5obIQp"
      }
    },
    {
      "cell_type": "code",
      "source": [
        "!pip install livelossplot\n",
        "\n",
        "import pandas as pd\n",
        "import numpy as np\n",
        "import zipfile\n",
        "import random\n",
        "from livelossplot import PlotLossesKeras\n",
        "from sklearn.model_selection import train_test_split\n",
        "import tensorflow as tf\n",
        "from tensorflow import keras\n",
        "from keras import layers"
      ],
      "metadata": {
        "id": "geXUgyFVaEH5",
        "colab": {
          "base_uri": "https://localhost:8080/",
          "height": 1000
        },
        "outputId": "1b2bc1b6-341a-4280-945f-ecc3b490cfa2"
      },
      "execution_count": null,
      "outputs": [
        {
          "output_type": "stream",
          "name": "stdout",
          "text": [
            "Looking in indexes: https://pypi.org/simple, https://us-python.pkg.dev/colab-wheels/public/simple/\n",
            "Collecting livelossplot\n",
            "  Downloading livelossplot-0.5.5-py3-none-any.whl (22 kB)\n",
            "Requirement already satisfied: bokeh in /usr/local/lib/python3.7/dist-packages (from livelossplot) (2.3.3)\n",
            "Collecting ipython==7.*\n",
            "  Downloading ipython-7.34.0-py3-none-any.whl (793 kB)\n",
            "\u001b[K     |████████████████████████████████| 793 kB 9.3 MB/s \n",
            "\u001b[?25hRequirement already satisfied: numpy<1.22 in /usr/local/lib/python3.7/dist-packages (from livelossplot) (1.21.6)\n",
            "Requirement already satisfied: matplotlib in /usr/local/lib/python3.7/dist-packages (from livelossplot) (3.2.2)\n",
            "Requirement already satisfied: matplotlib-inline in /usr/local/lib/python3.7/dist-packages (from ipython==7.*->livelossplot) (0.1.3)\n",
            "Collecting prompt-toolkit!=3.0.0,!=3.0.1,<3.1.0,>=2.0.0\n",
            "  Downloading prompt_toolkit-3.0.30-py3-none-any.whl (381 kB)\n",
            "\u001b[K     |████████████████████████████████| 381 kB 39.1 MB/s \n",
            "\u001b[?25hRequirement already satisfied: traitlets>=4.2 in /usr/local/lib/python3.7/dist-packages (from ipython==7.*->livelossplot) (5.1.1)\n",
            "Requirement already satisfied: decorator in /usr/local/lib/python3.7/dist-packages (from ipython==7.*->livelossplot) (4.4.2)\n",
            "Requirement already satisfied: setuptools>=18.5 in /usr/local/lib/python3.7/dist-packages (from ipython==7.*->livelossplot) (57.4.0)\n",
            "Requirement already satisfied: pexpect>4.3 in /usr/local/lib/python3.7/dist-packages (from ipython==7.*->livelossplot) (4.8.0)\n",
            "Requirement already satisfied: pickleshare in /usr/local/lib/python3.7/dist-packages (from ipython==7.*->livelossplot) (0.7.5)\n",
            "Requirement already satisfied: pygments in /usr/local/lib/python3.7/dist-packages (from ipython==7.*->livelossplot) (2.6.1)\n",
            "Requirement already satisfied: jedi>=0.16 in /usr/local/lib/python3.7/dist-packages (from ipython==7.*->livelossplot) (0.18.1)\n",
            "Requirement already satisfied: backcall in /usr/local/lib/python3.7/dist-packages (from ipython==7.*->livelossplot) (0.2.0)\n",
            "Requirement already satisfied: parso<0.9.0,>=0.8.0 in /usr/local/lib/python3.7/dist-packages (from jedi>=0.16->ipython==7.*->livelossplot) (0.8.3)\n",
            "Requirement already satisfied: ptyprocess>=0.5 in /usr/local/lib/python3.7/dist-packages (from pexpect>4.3->ipython==7.*->livelossplot) (0.7.0)\n",
            "Requirement already satisfied: wcwidth in /usr/local/lib/python3.7/dist-packages (from prompt-toolkit!=3.0.0,!=3.0.1,<3.1.0,>=2.0.0->ipython==7.*->livelossplot) (0.2.5)\n",
            "Requirement already satisfied: tornado>=5.1 in /usr/local/lib/python3.7/dist-packages (from bokeh->livelossplot) (5.1.1)\n",
            "Requirement already satisfied: packaging>=16.8 in /usr/local/lib/python3.7/dist-packages (from bokeh->livelossplot) (21.3)\n",
            "Requirement already satisfied: PyYAML>=3.10 in /usr/local/lib/python3.7/dist-packages (from bokeh->livelossplot) (3.13)\n",
            "Requirement already satisfied: typing-extensions>=3.7.4 in /usr/local/lib/python3.7/dist-packages (from bokeh->livelossplot) (4.1.1)\n",
            "Requirement already satisfied: pillow>=7.1.0 in /usr/local/lib/python3.7/dist-packages (from bokeh->livelossplot) (7.1.2)\n",
            "Requirement already satisfied: python-dateutil>=2.1 in /usr/local/lib/python3.7/dist-packages (from bokeh->livelossplot) (2.8.2)\n",
            "Requirement already satisfied: Jinja2>=2.9 in /usr/local/lib/python3.7/dist-packages (from bokeh->livelossplot) (2.11.3)\n",
            "Requirement already satisfied: MarkupSafe>=0.23 in /usr/local/lib/python3.7/dist-packages (from Jinja2>=2.9->bokeh->livelossplot) (2.0.1)\n",
            "Requirement already satisfied: pyparsing!=3.0.5,>=2.0.2 in /usr/local/lib/python3.7/dist-packages (from packaging>=16.8->bokeh->livelossplot) (3.0.9)\n",
            "Requirement already satisfied: six>=1.5 in /usr/local/lib/python3.7/dist-packages (from python-dateutil>=2.1->bokeh->livelossplot) (1.15.0)\n",
            "Requirement already satisfied: cycler>=0.10 in /usr/local/lib/python3.7/dist-packages (from matplotlib->livelossplot) (0.11.0)\n",
            "Requirement already satisfied: kiwisolver>=1.0.1 in /usr/local/lib/python3.7/dist-packages (from matplotlib->livelossplot) (1.4.3)\n",
            "Installing collected packages: prompt-toolkit, ipython, livelossplot\n",
            "  Attempting uninstall: prompt-toolkit\n",
            "    Found existing installation: prompt-toolkit 1.0.18\n",
            "    Uninstalling prompt-toolkit-1.0.18:\n",
            "      Successfully uninstalled prompt-toolkit-1.0.18\n",
            "  Attempting uninstall: ipython\n",
            "    Found existing installation: ipython 5.5.0\n",
            "    Uninstalling ipython-5.5.0:\n",
            "      Successfully uninstalled ipython-5.5.0\n",
            "\u001b[31mERROR: pip's dependency resolver does not currently take into account all the packages that are installed. This behaviour is the source of the following dependency conflicts.\n",
            "jupyter-console 5.2.0 requires prompt-toolkit<2.0.0,>=1.0.0, but you have prompt-toolkit 3.0.30 which is incompatible.\n",
            "google-colab 1.0.0 requires ipython~=5.5.0, but you have ipython 7.34.0 which is incompatible.\u001b[0m\n",
            "Successfully installed ipython-7.34.0 livelossplot-0.5.5 prompt-toolkit-3.0.30\n"
          ]
        },
        {
          "output_type": "display_data",
          "data": {
            "application/vnd.colab-display-data+json": {
              "pip_warning": {
                "packages": [
                  "IPython",
                  "prompt_toolkit"
                ]
              }
            }
          },
          "metadata": {}
        }
      ]
    },
    {
      "cell_type": "markdown",
      "source": [
        "* Import dataset from Drive"
      ],
      "metadata": {
        "id": "y02RqE_RnbI6"
      }
    },
    {
      "cell_type": "code",
      "execution_count": null,
      "metadata": {
        "colab": {
          "base_uri": "https://localhost:8080/"
        },
        "id": "8b3l1FXaZ7WP",
        "outputId": "ecb565d5-d0a2-454d-afef-0ff9f04d19b5"
      },
      "outputs": [
        {
          "output_type": "stream",
          "name": "stdout",
          "text": [
            "Mounted at /content/drive\n"
          ]
        }
      ],
      "source": [
        "from google.colab import drive\n",
        "drive.mount('/content/drive')\n",
        "\n",
        "zipped_dataset = '/content/drive/MyDrive/A_Progetti/AlgoForMassiveDatasets/dataset.zip'"
      ]
    },
    {
      "cell_type": "markdown",
      "source": [
        "* Import dataset from Kaggle"
      ],
      "metadata": {
        "id": "CDUGqh6gnKXa"
      }
    },
    {
      "cell_type": "code",
      "source": [
        "!pip install kaggle\n",
        "\n",
        "import os\n",
        "\n",
        "#insert token username\n",
        "os.environ['KAGGLE_USERNAME'] = 'k4ggl3gpu'\n",
        "#insert token key\n",
        "os.environ['KAGGLE_KEY'] = 'b351711c9f4e2907c33cbf94a533e17b'\n",
        "\n",
        "!kaggle datasets download -d k4ggl3gpu/algorithmsformassivedataset20212022dataset\n",
        "\n",
        "zipped_dataset = '/content/algorithmsformassivedataset20212022dataset.zip'"
      ],
      "metadata": {
        "colab": {
          "base_uri": "https://localhost:8080/"
        },
        "id": "l3rTRep_lnFi",
        "outputId": "12764627-e902-47aa-e97b-4a6ba3b85caf"
      },
      "execution_count": null,
      "outputs": [
        {
          "output_type": "stream",
          "name": "stdout",
          "text": [
            "Looking in indexes: https://pypi.org/simple, https://us-python.pkg.dev/colab-wheels/public/simple/\n",
            "Requirement already satisfied: kaggle in /usr/local/lib/python3.7/dist-packages (1.5.12)\n",
            "Requirement already satisfied: python-slugify in /usr/local/lib/python3.7/dist-packages (from kaggle) (6.1.2)\n",
            "Requirement already satisfied: requests in /usr/local/lib/python3.7/dist-packages (from kaggle) (2.23.0)\n",
            "Requirement already satisfied: python-dateutil in /usr/local/lib/python3.7/dist-packages (from kaggle) (2.8.2)\n",
            "Requirement already satisfied: tqdm in /usr/local/lib/python3.7/dist-packages (from kaggle) (4.64.0)\n",
            "Requirement already satisfied: six>=1.10 in /usr/local/lib/python3.7/dist-packages (from kaggle) (1.15.0)\n",
            "Requirement already satisfied: urllib3 in /usr/local/lib/python3.7/dist-packages (from kaggle) (1.24.3)\n",
            "Requirement already satisfied: certifi in /usr/local/lib/python3.7/dist-packages (from kaggle) (2022.6.15)\n",
            "Requirement already satisfied: text-unidecode>=1.3 in /usr/local/lib/python3.7/dist-packages (from python-slugify->kaggle) (1.3)\n",
            "Requirement already satisfied: chardet<4,>=3.0.2 in /usr/local/lib/python3.7/dist-packages (from requests->kaggle) (3.0.4)\n",
            "Requirement already satisfied: idna<3,>=2.5 in /usr/local/lib/python3.7/dist-packages (from requests->kaggle) (2.10)\n",
            "Downloading algorithmsformassivedataset20212022dataset.zip to /content\n",
            " 99% 641M/647M [00:07<00:00, 113MB/s]\n",
            "100% 647M/647M [00:07<00:00, 86.7MB/s]\n"
          ]
        }
      ]
    },
    {
      "cell_type": "markdown",
      "source": [
        "* Unzip and check dataset"
      ],
      "metadata": {
        "id": "vqPPvHkFuI2U"
      }
    },
    {
      "cell_type": "code",
      "source": [
        "zf = zipfile.ZipFile(zipped_dataset)\n",
        "\n",
        "#Check all files inside zip folder\n",
        "print(zf.namelist())\n",
        "#Open and read csv file\n",
        "df_dataset = pd.read_csv(zf.open('dataset.csv'), header=None)\n",
        "df_dataset = df_dataset.astype('string')\n",
        "df_dataset = df_dataset.fillna('')\n",
        "\n",
        "print(df_dataset.dtypes)\n",
        "print(df_dataset.info())\n",
        "print(df_dataset.sample(10))"
      ],
      "metadata": {
        "colab": {
          "base_uri": "https://localhost:8080/"
        },
        "id": "PfIuCOQQacvS",
        "outputId": "fbeafe8a-dd82-4537-e12e-f8e7d529f353"
      },
      "execution_count": null,
      "outputs": [
        {
          "output_type": "stream",
          "name": "stdout",
          "text": [
            "['dataset.csv']\n",
            "0    string\n",
            "1    string\n",
            "dtype: object\n",
            "<class 'pandas.core.frame.DataFrame'>\n",
            "RangeIndex: 26700388 entries, 0 to 26700387\n",
            "Data columns (total 2 columns):\n",
            " #   Column  Dtype \n",
            "---  ------  ----- \n",
            " 0   0       string\n",
            " 1   1       string\n",
            "dtypes: string(2)\n",
            "memory usage: 407.4 MB\n",
            "None\n",
            "                                                          0                  1\n",
            "16315986  targets operation striking lavrov civilian slo...           0 1 2 18\n",
            "470124    hristo stolen 2014 however money flowers russi...                0 1\n",
            "9092640   lie blood hundreds killed children state telet...               1 66\n",
            "10767983                                            morning                  0\n",
            "3770916   longer companies belarusian russian kick yeste...            1 33 59\n",
            "6350701          work cat home keeping motivated helps love                 16\n",
            "25183899  defenses air ka 52 rf ukrainian war destroyed ...                  1\n",
            "2813315   gop son reveals never mentioned publicly senat...               6 79\n",
            "124048    presence alliance comes rob force request baue...                 10\n",
            "25772414                            process denazificiation  0 1 5 15 19 53 74\n"
          ]
        }
      ]
    },
    {
      "cell_type": "markdown",
      "source": [
        "* Most frequent hashtags list"
      ],
      "metadata": {
        "id": "ybSiUIaEuMNu"
      }
    },
    {
      "cell_type": "code",
      "source": [
        "TOP_HASHTAGS = ['ukraine', 'russia', 'standwithukraine', 'putin', 'russian', 'mariupol', 'news', 'azovstal', 'ukrainerussianwar', 'ukrainian', 'nato', 'ukrainewar', 'ukraine️', 'business', 'ukrainerussiawar', 'kharkiv', 'usa', 'tigray', 'armukrainenow', 'kyiv', 'russianukrainianwar', 'stoprussia', 'slavaukraini', 'standwithukraine️', 'stopputinnow', 'stopputin', 'war', 'russiaukrainewar', 'savemariupol', 'zelenskyy', 'anonymous', 'biden', 'russians', 'eu', 'ukraineunderattaсk', 'kherson', 'standwithukriane', 'scotus', 'helpukraine', 'russianwarcrimes', 'tigraygenocide', 'us', 'nft', 'china', 'zelenskiynft', 'zelensky', 'endtigraysiege', 'safeairliftukraine', 'azov', 'giveaway', 'europe', 'ukraineunderattack', 'oprussia', 'donbass', 'canada', 'bucha', 'moscow', 'nfts', 'syria', 'poland', 'uk', 'russiaukraine', 'breaking', 'india', 'odesa', 'germany', 'ukrainians', 'russianarmy', 'donetsk', 'putinwarcrimes', 'mykolaiv', 'ukrainerussia', 'belarus', 'warcrimes', 'kiev', 'healthy', 'healthyeating', 'donbas', 'ukraineinvasion', 'breakingnews', 'roevwade', 'united24', 'luhansk', 'peace', 'stoprussianaggression', 'supportukraine', 'severodonetsk', 'putinwarcriminal', 'odessa', 'crypto', 'irpin', 'bitcoin', 'noflyzone', 'moskva', 'trump', 'closethesky', 'product', 'freeshipping', 'russiaukraineconflict', 'warinukraine']"
      ],
      "metadata": {
        "id": "nVSSWKbQaoOX"
      },
      "execution_count": null,
      "outputs": []
    },
    {
      "cell_type": "markdown",
      "source": [
        "# Configuration parameters"
      ],
      "metadata": {
        "id": "Bb1pYkytbLWo"
      }
    },
    {
      "cell_type": "markdown",
      "source": [
        "* Fine tune neural networks"
      ],
      "metadata": {
        "id": "PpVGpu8wuRT1"
      }
    },
    {
      "cell_type": "code",
      "source": [
        "#Slice of dataset to use\n",
        "first_tweet = 5000000\n",
        "last_tweet = 5750000\n",
        "\n",
        "#Embedding neural network parameters\n",
        "embedding_neural_network_vectorization_layer_output_tokens = 50\n",
        "embedding_neural_network_words_dictionary_size = 10000\n",
        "embedding_neural_network_words_embedding_dimensions = int(embedding_neural_network_words_dictionary_size ** 0.25)"
      ],
      "metadata": {
        "id": "_ph0LaGJbGAp"
      },
      "execution_count": null,
      "outputs": []
    },
    {
      "cell_type": "markdown",
      "source": [
        "#Embedding neural network to process input data"
      ],
      "metadata": {
        "id": "IwVbmY29baKR"
      }
    },
    {
      "cell_type": "markdown",
      "source": [
        "* Embedding neural network input layer"
      ],
      "metadata": {
        "id": "eJqo6FCBuW-T"
      }
    },
    {
      "cell_type": "code",
      "source": [
        "embedding_neural_network_input_layer = tf.keras.layers.InputLayer(\n",
        "    input_shape=(1,1),\n",
        "    dtype=tf.string\n",
        "    )"
      ],
      "metadata": {
        "id": "1rEJUdUCbcfJ"
      },
      "execution_count": null,
      "outputs": []
    },
    {
      "cell_type": "markdown",
      "source": [
        "* Embedding neural network text vectorization layer"
      ],
      "metadata": {
        "id": "FqEkZ6lduZqr"
      }
    },
    {
      "cell_type": "code",
      "source": [
        "embedding_neural_network_text_vectorization_layer = tf.keras.layers.TextVectorization(\n",
        "    max_tokens=embedding_neural_network_words_dictionary_size, #Limits learned vocabulary to top 10000 most frequent tokens\n",
        "    standardize='lower_and_strip_punctuation', #All words become lowercase and punctuation is removed\n",
        "    split='whitespace', #Splits input string into tokens using whitespace as delimiter\n",
        "    output_mode='int', #Output encoding type\n",
        "    output_sequence_length=embedding_neural_network_vectorization_layer_output_tokens #Number of output tokens\n",
        "    )\n",
        "\n",
        "embedding_neural_network_text_vectorization_layer.adapt(df_dataset.iloc[first_tweet:last_tweet, 0:1])\n",
        "\n",
        "embedding_neural_network_vectorization_layer_vocabulary_lenght = len(embedding_neural_network_text_vectorization_layer.get_vocabulary())"
      ],
      "metadata": {
        "id": "rMUy4XKPcFYv"
      },
      "execution_count": null,
      "outputs": []
    },
    {
      "cell_type": "markdown",
      "source": [
        "* Embedding neural network embedding layer"
      ],
      "metadata": {
        "id": "jPskYtQyuczj"
      }
    },
    {
      "cell_type": "code",
      "source": [
        "embedding_neural_network_embedding_layer = tf.keras.layers.Embedding(\n",
        "    input_dim=embedding_neural_network_vectorization_layer_vocabulary_lenght,\n",
        "    output_dim=embedding_neural_network_words_embedding_dimensions,\n",
        "    input_length=embedding_neural_network_vectorization_layer_output_tokens\n",
        "    )"
      ],
      "metadata": {
        "id": "sYeRLMCsc2vY"
      },
      "execution_count": null,
      "outputs": []
    },
    {
      "cell_type": "markdown",
      "source": [
        "* Embedding neural network flattening layer"
      ],
      "metadata": {
        "id": "o3IRY-Tjue3p"
      }
    },
    {
      "cell_type": "code",
      "source": [
        "embedding_neural_network_flattening_layer = tf.keras.layers.Flatten()"
      ],
      "metadata": {
        "id": "OapU5euGd9N2"
      },
      "execution_count": null,
      "outputs": []
    },
    {
      "cell_type": "markdown",
      "source": [
        "* Embedding neural network model"
      ],
      "metadata": {
        "id": "7OHSFBcZuhNh"
      }
    },
    {
      "cell_type": "code",
      "source": [
        "embedding_neural_network = tf.keras.Sequential([\n",
        "                             embedding_neural_network_input_layer,\n",
        "                             embedding_neural_network_text_vectorization_layer,\n",
        "                             embedding_neural_network_embedding_layer,\n",
        "                             embedding_neural_network_flattening_layer,\n",
        "                             #tf.keras.layers.GlobalAveragePooling2D()\n",
        "                             ])\n",
        "\n",
        "embedding_neural_network.compile(\n",
        "    optimizer='adam',\n",
        "    loss='mean_squared_error',\n",
        "    metrics=['accuracy']\n",
        "    )\n",
        "\n",
        "embedding_neural_network.summary()\n",
        "\n",
        "tf.keras.utils.plot_model(\n",
        "    embedding_neural_network,\n",
        "    to_file=\"Embedding neural network.png\", \n",
        "    show_shapes=True, \n",
        "    show_dtype=True, \n",
        "    show_layer_names=True, \n",
        "    show_layer_activations=True\n",
        "    )"
      ],
      "metadata": {
        "colab": {
          "base_uri": "https://localhost:8080/",
          "height": 823
        },
        "id": "BYlVbtIddzi3",
        "outputId": "014991f8-10e1-4c39-e907-186a45af0408"
      },
      "execution_count": null,
      "outputs": [
        {
          "output_type": "stream",
          "name": "stdout",
          "text": [
            "Model: \"sequential\"\n",
            "_________________________________________________________________\n",
            " Layer (type)                Output Shape              Param #   \n",
            "=================================================================\n",
            " text_vectorization (TextVec  (None, 1, 50)            0         \n",
            " torization)                                                     \n",
            "                                                                 \n",
            " embedding (Embedding)       (None, 1, 50, 10)         100000    \n",
            "                                                                 \n",
            " flatten (Flatten)           (None, 500)               0         \n",
            "                                                                 \n",
            "=================================================================\n",
            "Total params: 100,000\n",
            "Trainable params: 100,000\n",
            "Non-trainable params: 0\n",
            "_________________________________________________________________\n"
          ]
        },
        {
          "output_type": "execute_result",
          "data": {
            "text/plain": [
              "<IPython.core.display.Image object>"
            ],
            "image/png": "[encoded data removed]"
          },
          "metadata": {},
          "execution_count": 11
        }
      ]
    },
    {
      "cell_type": "markdown",
      "source": [
        "* Embedding neural network output used as input for the forecasting neural network"
      ],
      "metadata": {
        "id": "HaYAIuaUunW3"
      }
    },
    {
      "cell_type": "code",
      "source": [
        "forecasting_neural_network_input_data = embedding_neural_network.predict(df_dataset.iloc[first_tweet:last_tweet, 0:1])"
      ],
      "metadata": {
        "id": "W3iowGnleniX"
      },
      "execution_count": null,
      "outputs": []
    },
    {
      "cell_type": "markdown",
      "source": [
        "# Expected output labels decompression"
      ],
      "metadata": {
        "id": "Hwg0fXUhe_5u"
      }
    },
    {
      "cell_type": "markdown",
      "source": [
        "* Labels decompressing function"
      ],
      "metadata": {
        "id": "oAJHk9UYvRZ1"
      }
    },
    {
      "cell_type": "code",
      "source": [
        "#Expand second column of dataset\n",
        "def from_indices_to_boolean_vector(indices):\n",
        "    indices = str(indices.values[0])\n",
        "    pads = [0 for _ in range(len(TOP_HASHTAGS))]\n",
        "    if not indices:\n",
        "      return pads\n",
        "    indices = [int(x) for x in indices.split(' ')]\n",
        "    for index in indices:\n",
        "      pads[index] = 1\n",
        "    return pads"
      ],
      "metadata": {
        "id": "87H_2p5LfEI-"
      },
      "execution_count": null,
      "outputs": []
    },
    {
      "cell_type": "markdown",
      "source": [
        "* Labels decompressed as expected output for the forecasting neural network"
      ],
      "metadata": {
        "id": "jn57URSHvVbs"
      }
    },
    {
      "cell_type": "code",
      "source": [
        "forecasting_neural_network_expected_output_labels = df_dataset.iloc[first_tweet:last_tweet, 1:2].apply(from_indices_to_boolean_vector, axis=1, result_type='expand')"
      ],
      "metadata": {
        "id": "4J6BZN1EfK_w"
      },
      "execution_count": null,
      "outputs": []
    },
    {
      "cell_type": "markdown",
      "source": [
        "# Forecasting neural network"
      ],
      "metadata": {
        "id": "6-WjbYyQe0ZG"
      }
    },
    {
      "cell_type": "markdown",
      "source": [
        "* Forecasting neural network input and output shapes"
      ],
      "metadata": {
        "id": "be4j4-5Hvee7"
      }
    },
    {
      "cell_type": "code",
      "source": [
        "forecasting_neural_network_input_shape = forecasting_neural_network_input_data.shape[1]\n",
        "forecasting_neural_network_output_shape = len(TOP_HASHTAGS)"
      ],
      "metadata": {
        "id": "BLP1KhHP6CGy"
      },
      "execution_count": null,
      "outputs": []
    },
    {
      "cell_type": "markdown",
      "source": [
        "* Forecasting neural network input layer"
      ],
      "metadata": {
        "id": "tGPb0AcCvakr"
      }
    },
    {
      "cell_type": "code",
      "source": [
        "forecasting_neural_network_input_layer = tf.keras.layers.InputLayer(\n",
        "    input_shape=(forecasting_neural_network_input_shape),\n",
        "    )"
      ],
      "metadata": {
        "id": "NWak3j1pf-K8"
      },
      "execution_count": null,
      "outputs": []
    },
    {
      "cell_type": "markdown",
      "source": [
        "* Forecasting neural network model"
      ],
      "metadata": {
        "id": "jqk3H09mvitb"
      }
    },
    {
      "cell_type": "code",
      "source": [
        "forecasting_neural_network = tf.keras.Sequential([\n",
        "                          forecasting_neural_network_input_layer,\n",
        "                          #tf.keras.layers.Dense(256, activation='relu'),   \n",
        "                          #tf.keras.layers.Dense(128, activation='relu'),\n",
        "                          tf.keras.layers.Dense((forecasting_neural_network_input_shape / 2), activation='relu'),\n",
        "                          tf.keras.layers.Dense((forecasting_neural_network_input_shape / 4), activation='relu'),\n",
        "                          tf.keras.layers.Dense(forecasting_neural_network_output_shape, activation='sigmoid')\n",
        "                          ])\n",
        "\n",
        "forecasting_neural_network.compile(\n",
        "    optimizer='adam',\n",
        "    loss='binary_crossentropy',\n",
        "    metrics=['binary_accuracy']\n",
        "    )\n",
        "\n",
        "#forecasting_neural_network.build()\n",
        "\n",
        "forecasting_neural_network.summary()\n",
        "\n",
        "tf.keras.utils.plot_model(\n",
        "    forecasting_neural_network,\n",
        "    to_file=\"Forecasting neural network.png\", \n",
        "    show_shapes=True, \n",
        "    show_dtype=True, \n",
        "    show_layer_names=True, \n",
        "    show_layer_activations=True\n",
        "    )"
      ],
      "metadata": {
        "colab": {
          "base_uri": "https://localhost:8080/",
          "height": 805
        },
        "id": "_GqJtli8gBD1",
        "outputId": "1298a5ea-4326-45ae-d287-f2046cc9feca"
      },
      "execution_count": null,
      "outputs": [
        {
          "output_type": "stream",
          "name": "stdout",
          "text": [
            "Model: \"sequential_1\"\n",
            "_________________________________________________________________\n",
            " Layer (type)                Output Shape              Param #   \n",
            "=================================================================\n",
            " dense (Dense)               (None, 250)               125250    \n",
            "                                                                 \n",
            " dense_1 (Dense)             (None, 125)               31375     \n",
            "                                                                 \n",
            " dense_2 (Dense)             (None, 100)               12600     \n",
            "                                                                 \n",
            "=================================================================\n",
            "Total params: 169,225\n",
            "Trainable params: 169,225\n",
            "Non-trainable params: 0\n",
            "_________________________________________________________________\n"
          ]
        },
        {
          "output_type": "execute_result",
          "data": {
            "text/plain": [
              "<IPython.core.display.Image object>"
            ],
            "image/png": "[encoded data removed]"
          },
          "metadata": {},
          "execution_count": 17
        }
      ]
    },
    {
      "cell_type": "markdown",
      "source": [
        "# Training"
      ],
      "metadata": {
        "id": "WH2rZc33hLJM"
      }
    },
    {
      "cell_type": "markdown",
      "source": [
        "* Split dataset into training and test data"
      ],
      "metadata": {
        "id": "yU9HteVrvvk7"
      }
    },
    {
      "cell_type": "code",
      "source": [
        "X_train, X_test, Y_train, Y_test = train_test_split(forecasting_neural_network_input_data, forecasting_neural_network_expected_output_labels, test_size=0.3, random_state=random.randint(0, 100))"
      ],
      "metadata": {
        "id": "QVl_GkVMXSnF"
      },
      "execution_count": null,
      "outputs": []
    },
    {
      "cell_type": "markdown",
      "source": [
        "* Forecasting neural network training"
      ],
      "metadata": {
        "id": "erACximCv0MT"
      }
    },
    {
      "cell_type": "code",
      "source": [
        "#Train model\n",
        "forecasting_neural_network.fit(\n",
        "    x=X_train, y=Y_train,\n",
        "    validation_split=0.2,\n",
        "    epochs=10,\n",
        "    shuffle=True,\n",
        "    callbacks=[PlotLossesKeras()]\n",
        "    )"
      ],
      "metadata": {
        "colab": {
          "base_uri": "https://localhost:8080/",
          "height": 724
        },
        "id": "Z6mw_Qi8hOBe",
        "outputId": "2c314261-6a66-4a87-a7bf-db40316c7c88"
      },
      "execution_count": null,
      "outputs": [
        {
          "output_type": "display_data",
          "data": {
            "text/plain": [
              "<Figure size 864x576 with 2 Axes>"
            ],
            "image/png": "[encoded data removed]"
          },
          "metadata": {
            "needs_background": "light"
          }
        },
        {
          "output_type": "stream",
          "name": "stdout",
          "text": [
            "binary_accuracy\n",
            "\ttraining         \t (min:    0.984, max:    0.991, cur:    0.991)\n",
            "\tvalidation       \t (min:    0.987, max:    0.991, cur:    0.991)\n",
            "Loss\n",
            "\ttraining         \t (min:    0.035, max:    0.059, cur:    0.035)\n",
            "\tvalidation       \t (min:    0.037, max:    0.051, cur:    0.037)\n",
            "\b\b\b\b\b\b\b\b\b\b\b\b\b\b\b\b\b\b\b\b\b\b\b\b\b\b\b\b\b\b\b\b\b\b\b\b\b\b\b\b\b\b\b\b\b\b\b\b\b\b\b\b\b\b\b\b\b\b\b\b\b\b\b\b\b\b\b\b\b\b\b\b\b\b\b\b\b\b\b\b\b\b\b\b\b\b\b\b\b\b\b\b\b\b\b\r13125/13125 [==============================] - 55s 4ms/step - loss: 0.0349 - binary_accuracy: 0.9907 - val_loss: 0.0366 - val_binary_accuracy: 0.9905\n"
          ]
        },
        {
          "output_type": "execute_result",
          "data": {
            "text/plain": [
              "<keras.callbacks.History at 0x7f7f19bdde10>"
            ]
          },
          "metadata": {},
          "execution_count": 19
        }
      ]
    },
    {
      "cell_type": "markdown",
      "source": [
        "# Testing"
      ],
      "metadata": {
        "id": "vZ4k6c4NhMxc"
      }
    },
    {
      "cell_type": "markdown",
      "source": [
        "* Forecasting neural network testing"
      ],
      "metadata": {
        "id": "gIAhenX0v5ff"
      }
    },
    {
      "cell_type": "code",
      "source": [
        "#Test model\n",
        "forecasting_neural_network.evaluate(\n",
        "    x=X_test, y=Y_test,\n",
        "    )"
      ],
      "metadata": {
        "colab": {
          "base_uri": "https://localhost:8080/"
        },
        "id": "qiKCCSUNhb1M",
        "outputId": "d5fec419-06f6-4642-9523-555fd0026604"
      },
      "execution_count": null,
      "outputs": [
        {
          "output_type": "stream",
          "name": "stdout",
          "text": [
            "7032/7032 [==============================] - 14s 2ms/step - loss: 0.0369 - binary_accuracy: 0.9904\n"
          ]
        },
        {
          "output_type": "execute_result",
          "data": {
            "text/plain": [
              "[0.036899857223033905, 0.9904478192329407]"
            ]
          },
          "metadata": {},
          "execution_count": 21
        }
      ]
    }
  ]
}