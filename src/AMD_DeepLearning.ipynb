{
  "nbformat": 4,
  "nbformat_minor": 0,
  "metadata": {
    "colab": {
      "name": "AMD_DeepLearning.ipynb",
      "provenance": [],
      "collapsed_sections": [
        "ewSz_d5obIQp",
        "Bb1pYkytbLWo",
        "IwVbmY29baKR",
        "Hwg0fXUhe_5u",
        "6-WjbYyQe0ZG",
        "WH2rZc33hLJM",
        "vZ4k6c4NhMxc",
        "OqdOiTFQaRTr"
      ]
    },
    "kernelspec": {
      "name": "python3",
      "display_name": "Python 3"
    },
    "language_info": {
      "name": "python"
    }
  },
  "cells": [
    {
      "cell_type": "markdown",
      "source": [
        "# Setup"
      ],
      "metadata": {
        "id": "ewSz_d5obIQp"
      }
    },
    {
      "cell_type": "markdown",
      "source": [
        "* Clone github repository"
      ],
      "metadata": {
        "id": "cEWiUVS6K1EM"
      }
    },
    {
      "cell_type": "code",
      "source": [
        "!git clone https://github.com/BeppeMaxCaru/AMD_DeepLearning.git"
      ],
      "metadata": {
        "colab": {
          "base_uri": "https://localhost:8080/"
        },
        "id": "Dd05IekULJ1K",
        "outputId": "306b281a-8493-411c-e3e2-8396880ae494"
      },
      "execution_count": 1,
      "outputs": [
        {
          "output_type": "stream",
          "name": "stdout",
          "text": [
            "Cloning into 'AMD_DeepLearning'...\n",
            "remote: Enumerating objects: 103, done.\u001b[K\n",
            "remote: Counting objects: 100% (17/17), done.\u001b[K\n",
            "remote: Compressing objects: 100% (16/16), done.\u001b[K\n",
            "remote: Total 103 (delta 5), reused 3 (delta 0), pack-reused 86\u001b[K\n",
            "Receiving objects: 100% (103/103), 697.41 KiB | 15.85 MiB/s, done.\n",
            "Resolving deltas: 100% (30/30), done.\n"
          ]
        }
      ]
    },
    {
      "cell_type": "markdown",
      "source": [
        "* Download and import libraries"
      ],
      "metadata": {
        "id": "9pSK49aiKXCa"
      }
    },
    {
      "cell_type": "code",
      "source": [
        "!pip install kaggle\n",
        "!pip install livelossplot\n",
        "\n",
        "import zipfile\n",
        "import json\n",
        "import pandas as pd\n",
        "import numpy as np\n",
        "import random\n",
        "from livelossplot import PlotLossesKeras\n",
        "from sklearn.model_selection import train_test_split\n",
        "import tensorflow as tf\n",
        "from tensorflow import keras\n",
        "from keras import layers"
      ],
      "metadata": {
        "id": "geXUgyFVaEH5",
        "colab": {
          "base_uri": "https://localhost:8080/",
          "height": 1000
        },
        "outputId": "a3296fae-a3dc-46df-c1ca-83db64fbef22"
      },
      "execution_count": 2,
      "outputs": [
        {
          "output_type": "stream",
          "name": "stdout",
          "text": [
            "Looking in indexes: https://pypi.org/simple, https://us-python.pkg.dev/colab-wheels/public/simple/\n",
            "Requirement already satisfied: kaggle in /usr/local/lib/python3.7/dist-packages (1.5.12)\n",
            "Requirement already satisfied: requests in /usr/local/lib/python3.7/dist-packages (from kaggle) (2.23.0)\n",
            "Requirement already satisfied: urllib3 in /usr/local/lib/python3.7/dist-packages (from kaggle) (1.24.3)\n",
            "Requirement already satisfied: six>=1.10 in /usr/local/lib/python3.7/dist-packages (from kaggle) (1.15.0)\n",
            "Requirement already satisfied: certifi in /usr/local/lib/python3.7/dist-packages (from kaggle) (2022.6.15)\n",
            "Requirement already satisfied: python-dateutil in /usr/local/lib/python3.7/dist-packages (from kaggle) (2.8.2)\n",
            "Requirement already satisfied: tqdm in /usr/local/lib/python3.7/dist-packages (from kaggle) (4.64.0)\n",
            "Requirement already satisfied: python-slugify in /usr/local/lib/python3.7/dist-packages (from kaggle) (6.1.2)\n",
            "Requirement already satisfied: text-unidecode>=1.3 in /usr/local/lib/python3.7/dist-packages (from python-slugify->kaggle) (1.3)\n",
            "Requirement already satisfied: idna<3,>=2.5 in /usr/local/lib/python3.7/dist-packages (from requests->kaggle) (2.10)\n",
            "Requirement already satisfied: chardet<4,>=3.0.2 in /usr/local/lib/python3.7/dist-packages (from requests->kaggle) (3.0.4)\n",
            "Looking in indexes: https://pypi.org/simple, https://us-python.pkg.dev/colab-wheels/public/simple/\n",
            "Collecting livelossplot\n",
            "  Downloading livelossplot-0.5.5-py3-none-any.whl (22 kB)\n",
            "Requirement already satisfied: numpy<1.22 in /usr/local/lib/python3.7/dist-packages (from livelossplot) (1.21.6)\n",
            "Collecting ipython==7.*\n",
            "  Downloading ipython-7.34.0-py3-none-any.whl (793 kB)\n",
            "\u001b[K     |████████████████████████████████| 793 kB 10.0 MB/s \n",
            "\u001b[?25hRequirement already satisfied: bokeh in /usr/local/lib/python3.7/dist-packages (from livelossplot) (2.3.3)\n",
            "Requirement already satisfied: matplotlib in /usr/local/lib/python3.7/dist-packages (from livelossplot) (3.2.2)\n",
            "Requirement already satisfied: matplotlib-inline in /usr/local/lib/python3.7/dist-packages (from ipython==7.*->livelossplot) (0.1.3)\n",
            "Requirement already satisfied: decorator in /usr/local/lib/python3.7/dist-packages (from ipython==7.*->livelossplot) (4.4.2)\n",
            "Requirement already satisfied: backcall in /usr/local/lib/python3.7/dist-packages (from ipython==7.*->livelossplot) (0.2.0)\n",
            "Collecting prompt-toolkit!=3.0.0,!=3.0.1,<3.1.0,>=2.0.0\n",
            "  Downloading prompt_toolkit-3.0.30-py3-none-any.whl (381 kB)\n",
            "\u001b[K     |████████████████████████████████| 381 kB 40.0 MB/s \n",
            "\u001b[?25hRequirement already satisfied: pickleshare in /usr/local/lib/python3.7/dist-packages (from ipython==7.*->livelossplot) (0.7.5)\n",
            "Requirement already satisfied: setuptools>=18.5 in /usr/local/lib/python3.7/dist-packages (from ipython==7.*->livelossplot) (57.4.0)\n",
            "Requirement already satisfied: pygments in /usr/local/lib/python3.7/dist-packages (from ipython==7.*->livelossplot) (2.6.1)\n",
            "Requirement already satisfied: pexpect>4.3 in /usr/local/lib/python3.7/dist-packages (from ipython==7.*->livelossplot) (4.8.0)\n",
            "Requirement already satisfied: traitlets>=4.2 in /usr/local/lib/python3.7/dist-packages (from ipython==7.*->livelossplot) (5.1.1)\n",
            "Requirement already satisfied: jedi>=0.16 in /usr/local/lib/python3.7/dist-packages (from ipython==7.*->livelossplot) (0.18.1)\n",
            "Requirement already satisfied: parso<0.9.0,>=0.8.0 in /usr/local/lib/python3.7/dist-packages (from jedi>=0.16->ipython==7.*->livelossplot) (0.8.3)\n",
            "Requirement already satisfied: ptyprocess>=0.5 in /usr/local/lib/python3.7/dist-packages (from pexpect>4.3->ipython==7.*->livelossplot) (0.7.0)\n",
            "Requirement already satisfied: wcwidth in /usr/local/lib/python3.7/dist-packages (from prompt-toolkit!=3.0.0,!=3.0.1,<3.1.0,>=2.0.0->ipython==7.*->livelossplot) (0.2.5)\n",
            "Requirement already satisfied: PyYAML>=3.10 in /usr/local/lib/python3.7/dist-packages (from bokeh->livelossplot) (3.13)\n",
            "Requirement already satisfied: python-dateutil>=2.1 in /usr/local/lib/python3.7/dist-packages (from bokeh->livelossplot) (2.8.2)\n",
            "Requirement already satisfied: packaging>=16.8 in /usr/local/lib/python3.7/dist-packages (from bokeh->livelossplot) (21.3)\n",
            "Requirement already satisfied: tornado>=5.1 in /usr/local/lib/python3.7/dist-packages (from bokeh->livelossplot) (5.1.1)\n",
            "Requirement already satisfied: Jinja2>=2.9 in /usr/local/lib/python3.7/dist-packages (from bokeh->livelossplot) (2.11.3)\n",
            "Requirement already satisfied: pillow>=7.1.0 in /usr/local/lib/python3.7/dist-packages (from bokeh->livelossplot) (7.1.2)\n",
            "Requirement already satisfied: typing-extensions>=3.7.4 in /usr/local/lib/python3.7/dist-packages (from bokeh->livelossplot) (4.1.1)\n",
            "Requirement already satisfied: MarkupSafe>=0.23 in /usr/local/lib/python3.7/dist-packages (from Jinja2>=2.9->bokeh->livelossplot) (2.0.1)\n",
            "Requirement already satisfied: pyparsing!=3.0.5,>=2.0.2 in /usr/local/lib/python3.7/dist-packages (from packaging>=16.8->bokeh->livelossplot) (3.0.9)\n",
            "Requirement already satisfied: six>=1.5 in /usr/local/lib/python3.7/dist-packages (from python-dateutil>=2.1->bokeh->livelossplot) (1.15.0)\n",
            "Requirement already satisfied: kiwisolver>=1.0.1 in /usr/local/lib/python3.7/dist-packages (from matplotlib->livelossplot) (1.4.3)\n",
            "Requirement already satisfied: cycler>=0.10 in /usr/local/lib/python3.7/dist-packages (from matplotlib->livelossplot) (0.11.0)\n",
            "Installing collected packages: prompt-toolkit, ipython, livelossplot\n",
            "  Attempting uninstall: prompt-toolkit\n",
            "    Found existing installation: prompt-toolkit 1.0.18\n",
            "    Uninstalling prompt-toolkit-1.0.18:\n",
            "      Successfully uninstalled prompt-toolkit-1.0.18\n",
            "  Attempting uninstall: ipython\n",
            "    Found existing installation: ipython 5.5.0\n",
            "    Uninstalling ipython-5.5.0:\n",
            "      Successfully uninstalled ipython-5.5.0\n",
            "\u001b[31mERROR: pip's dependency resolver does not currently take into account all the packages that are installed. This behaviour is the source of the following dependency conflicts.\n",
            "jupyter-console 5.2.0 requires prompt-toolkit<2.0.0,>=1.0.0, but you have prompt-toolkit 3.0.30 which is incompatible.\n",
            "google-colab 1.0.0 requires ipython~=5.5.0, but you have ipython 7.34.0 which is incompatible.\u001b[0m\n",
            "Successfully installed ipython-7.34.0 livelossplot-0.5.5 prompt-toolkit-3.0.30\n"
          ]
        },
        {
          "output_type": "display_data",
          "data": {
            "application/vnd.colab-display-data+json": {
              "pip_warning": {
                "packages": [
                  "IPython",
                  "prompt_toolkit"
                ]
              }
            }
          },
          "metadata": {}
        }
      ]
    },
    {
      "cell_type": "markdown",
      "source": [
        "* Extract hashtags to predict"
      ],
      "metadata": {
        "id": "ybSiUIaEuMNu"
      }
    },
    {
      "cell_type": "code",
      "source": [
        "hashtags_json = json.load(open('/content/AMD_DeepLearning/src/top_hashtags_index.json'))\n",
        "\n",
        "hashtags_list = list(hashtags_json.items())\n",
        "hashtags_list.sort(key = lambda pair: pair[1])\n",
        "TOP_HASHTAGS = [elem[0] for elem in hashtags_list]"
      ],
      "metadata": {
        "id": "poZhwAhQKsvB"
      },
      "execution_count": 3,
      "outputs": []
    },
    {
      "cell_type": "markdown",
      "source": [
        "* Set Kaggle API Token"
      ],
      "metadata": {
        "id": "kyVm9_8MZEE-"
      }
    },
    {
      "cell_type": "code",
      "source": [
        "!mkdir -p ~/.kaggle\n",
        "!cp kaggle.json ~/.kaggle\n",
        "!chmod 600 ~/.kaggle/kaggle.json"
      ],
      "metadata": {
        "id": "rzymBCe8ZJ3-"
      },
      "execution_count": 4,
      "outputs": []
    },
    {
      "cell_type": "markdown",
      "source": [
        "* Import dataset from Kaggle"
      ],
      "metadata": {
        "id": "CDUGqh6gnKXa"
      }
    },
    {
      "cell_type": "code",
      "source": [
        "!kaggle datasets download -d k4ggl3gpu/algorithmsformassivedataset20212022dataset\n",
        "\n",
        "zipped_dataset = '/content/algorithmsformassivedataset20212022dataset.zip'"
      ],
      "metadata": {
        "id": "O42ZnJ3OcdZZ",
        "colab": {
          "base_uri": "https://localhost:8080/"
        },
        "outputId": "1c423d40-266b-46e0-9133-399f5180f31e"
      },
      "execution_count": 5,
      "outputs": [
        {
          "output_type": "stream",
          "name": "stdout",
          "text": [
            "Downloading algorithmsformassivedataset20212022dataset.zip to /content\n",
            " 98% 633M/647M [00:06<00:00, 117MB/s]\n",
            "100% 647M/647M [00:06<00:00, 104MB/s]\n"
          ]
        }
      ]
    },
    {
      "cell_type": "markdown",
      "source": [
        "* Unzip and check dataset"
      ],
      "metadata": {
        "id": "vqPPvHkFuI2U"
      }
    },
    {
      "cell_type": "code",
      "source": [
        "zf = zipfile.ZipFile(zipped_dataset)\n",
        "\n",
        "#Check all files inside zip folder\n",
        "print(zf.namelist())\n",
        "#Open and read csv file\n",
        "df_dataset = pd.read_csv(zf.open('dataset.csv'), header=None)\n",
        "df_dataset = df_dataset.astype('string')\n",
        "df_dataset = df_dataset.fillna('')\n",
        "\n",
        "print(df_dataset.dtypes)\n",
        "print(df_dataset.info())\n",
        "print(df_dataset.sample(10))"
      ],
      "metadata": {
        "colab": {
          "base_uri": "https://localhost:8080/"
        },
        "id": "PfIuCOQQacvS",
        "outputId": "3f8ef2ac-404b-468f-8535-fe3514b074ed"
      },
      "execution_count": 6,
      "outputs": [
        {
          "output_type": "stream",
          "name": "stdout",
          "text": [
            "['dataset.csv']\n",
            "0    string\n",
            "1    string\n",
            "dtype: object\n",
            "<class 'pandas.core.frame.DataFrame'>\n",
            "RangeIndex: 26700388 entries, 0 to 26700387\n",
            "Data columns (total 2 columns):\n",
            " #   Column  Dtype \n",
            "---  ------  ----- \n",
            " 0   0       string\n",
            " 1   1       string\n",
            "dtypes: string(2)\n",
            "memory usage: 407.4 MB\n",
            "None\n",
            "                                                          0                  1\n",
            "1866106   germany africa tell food syria invasion lebano...  0 1 3 31 43 63 65\n",
            "16568838  truth patriot movement constitution neither co...                   \n",
            "524261                         embassy performance appeared                  4\n",
            "23406836  far massive 100km away rocked could explosion ...           0 1 5 73\n",
            "9256733   plunge double border history 196km uppermost c...               1 10\n",
            "6245545   obligated lifted famine man made imposed n dem...                 17\n",
            "10841880  eight needs rising delivering growing one assi...                  0\n",
            "14084163  least nuclear assurances close gave threat mem...                  3\n",
            "5807266   center plant rage second bombs chemical city p...                  1\n",
            "23972639  azovstal right help finals performing kalush u...                   \n"
          ]
        }
      ]
    },
    {
      "cell_type": "markdown",
      "source": [
        "# Configuration parameters"
      ],
      "metadata": {
        "id": "Bb1pYkytbLWo"
      }
    },
    {
      "cell_type": "markdown",
      "source": [
        "* Fine tune neural networks"
      ],
      "metadata": {
        "id": "PpVGpu8wuRT1"
      }
    },
    {
      "cell_type": "code",
      "source": [
        "#Slice of dataset to use\n",
        "first_tweet = 5000000\n",
        "last_tweet = 5500000\n",
        "\n",
        "#Embedding neural network parameters\n",
        "embedding_neural_network_vectorization_layer_output_tokens = 50\n",
        "embedding_neural_network_words_dictionary_size = 10000\n",
        "embedding_neural_network_words_embedding_dimensions = int(embedding_neural_network_words_dictionary_size ** 0.25)"
      ],
      "metadata": {
        "id": "_ph0LaGJbGAp"
      },
      "execution_count": 7,
      "outputs": []
    },
    {
      "cell_type": "markdown",
      "source": [
        "#Embedding neural network to process input data"
      ],
      "metadata": {
        "id": "IwVbmY29baKR"
      }
    },
    {
      "cell_type": "markdown",
      "source": [
        "* Embedding neural network input layer"
      ],
      "metadata": {
        "id": "eJqo6FCBuW-T"
      }
    },
    {
      "cell_type": "code",
      "source": [
        "embedding_neural_network_input_layer = tf.keras.layers.InputLayer(\n",
        "    input_shape=(1,1),\n",
        "    dtype=tf.string\n",
        "    )"
      ],
      "metadata": {
        "id": "1rEJUdUCbcfJ"
      },
      "execution_count": 8,
      "outputs": []
    },
    {
      "cell_type": "markdown",
      "source": [
        "* Embedding neural network text vectorization layer"
      ],
      "metadata": {
        "id": "FqEkZ6lduZqr"
      }
    },
    {
      "cell_type": "code",
      "source": [
        "embedding_neural_network_text_vectorization_layer = tf.keras.layers.TextVectorization(\n",
        "    max_tokens=embedding_neural_network_words_dictionary_size, #Limits learned vocabulary to top 10000 most frequent tokens\n",
        "    standardize='lower_and_strip_punctuation', #All words become lowercase and punctuation is removed\n",
        "    split='whitespace', #Splits input string into tokens using whitespace as delimiter\n",
        "    output_mode='int', #Output encoding type\n",
        "    output_sequence_length=embedding_neural_network_vectorization_layer_output_tokens #Number of output tokens\n",
        "    )\n",
        "\n",
        "embedding_neural_network_text_vectorization_layer.adapt(df_dataset.iloc[first_tweet:last_tweet, 0:1])\n",
        "\n",
        "embedding_neural_network_vectorization_layer_vocabulary_lenght = len(embedding_neural_network_text_vectorization_layer.get_vocabulary())"
      ],
      "metadata": {
        "id": "rMUy4XKPcFYv"
      },
      "execution_count": 9,
      "outputs": []
    },
    {
      "cell_type": "markdown",
      "source": [
        "* Embedding neural network embedding layer"
      ],
      "metadata": {
        "id": "jPskYtQyuczj"
      }
    },
    {
      "cell_type": "code",
      "source": [
        "embedding_neural_network_embedding_layer = tf.keras.layers.Embedding(\n",
        "    input_dim=embedding_neural_network_vectorization_layer_vocabulary_lenght,\n",
        "    output_dim=embedding_neural_network_words_embedding_dimensions,\n",
        "    input_length=embedding_neural_network_vectorization_layer_output_tokens\n",
        "    )"
      ],
      "metadata": {
        "id": "sYeRLMCsc2vY"
      },
      "execution_count": 10,
      "outputs": []
    },
    {
      "cell_type": "markdown",
      "source": [
        "* Embedding neural network flattening layer"
      ],
      "metadata": {
        "id": "o3IRY-Tjue3p"
      }
    },
    {
      "cell_type": "code",
      "source": [
        "embedding_neural_network_flattening_layer = tf.keras.layers.Flatten()"
      ],
      "metadata": {
        "id": "OapU5euGd9N2"
      },
      "execution_count": 11,
      "outputs": []
    },
    {
      "cell_type": "markdown",
      "source": [
        "* Embedding neural network model"
      ],
      "metadata": {
        "id": "7OHSFBcZuhNh"
      }
    },
    {
      "cell_type": "code",
      "source": [
        "embedding_neural_network = tf.keras.Sequential([\n",
        "                             embedding_neural_network_input_layer,\n",
        "                             embedding_neural_network_text_vectorization_layer,\n",
        "                             embedding_neural_network_embedding_layer,\n",
        "                             embedding_neural_network_flattening_layer,\n",
        "                             #tf.keras.layers.GlobalAveragePooling2D()\n",
        "                             ])\n",
        "\n",
        "embedding_neural_network.compile(\n",
        "    optimizer='adam',\n",
        "    loss='mean_squared_error',\n",
        "    metrics=['accuracy']\n",
        "    )\n",
        "\n",
        "embedding_neural_network.summary()\n",
        "\n",
        "tf.keras.utils.plot_model(\n",
        "    embedding_neural_network,\n",
        "    to_file=\"Embedding neural network.png\", \n",
        "    show_shapes=True, \n",
        "    show_dtype=True, \n",
        "    show_layer_names=True, \n",
        "    show_layer_activations=True\n",
        "    )"
      ],
      "metadata": {
        "colab": {
          "base_uri": "https://localhost:8080/",
          "height": 823
        },
        "id": "BYlVbtIddzi3",
        "outputId": "e6fb26ba-39ac-412e-e3a9-6dd798e3b0fe"
      },
      "execution_count": 12,
      "outputs": [
        {
          "output_type": "stream",
          "name": "stdout",
          "text": [
            "Model: \"sequential\"\n",
            "_________________________________________________________________\n",
            " Layer (type)                Output Shape              Param #   \n",
            "=================================================================\n",
            " text_vectorization (TextVec  (None, 1, 50)            0         \n",
            " torization)                                                     \n",
            "                                                                 \n",
            " embedding (Embedding)       (None, 1, 50, 10)         100000    \n",
            "                                                                 \n",
            " flatten (Flatten)           (None, 500)               0         \n",
            "                                                                 \n",
            "=================================================================\n",
            "Total params: 100,000\n",
            "Trainable params: 100,000\n",
            "Non-trainable params: 0\n",
            "_________________________________________________________________\n"
          ]
        },
        {
          "output_type": "execute_result",
          "data": {
            "text/plain": [
              "<IPython.core.display.Image object>"
            ],
            "image/png": "[encoded data removed]"
          },
          "metadata": {},
          "execution_count": 12
        }
      ]
    },
    {
      "cell_type": "markdown",
      "source": [
        "* Embedding neural network output used as input for the forecasting neural network"
      ],
      "metadata": {
        "id": "HaYAIuaUunW3"
      }
    },
    {
      "cell_type": "code",
      "source": [
        "forecasting_neural_network_input_data = embedding_neural_network.predict(df_dataset.iloc[first_tweet:last_tweet, 0:1])"
      ],
      "metadata": {
        "id": "W3iowGnleniX"
      },
      "execution_count": 13,
      "outputs": []
    },
    {
      "cell_type": "markdown",
      "source": [
        "# Expected output labels decompression"
      ],
      "metadata": {
        "id": "Hwg0fXUhe_5u"
      }
    },
    {
      "cell_type": "markdown",
      "source": [
        "* Labels decompressing function"
      ],
      "metadata": {
        "id": "oAJHk9UYvRZ1"
      }
    },
    {
      "cell_type": "code",
      "source": [
        "#Expand second column of dataset\n",
        "def from_indices_to_boolean_vector(indices):\n",
        "    indices = str(indices.values[0])\n",
        "    pads = [0 for _ in range(len(TOP_HASHTAGS))]\n",
        "    if not indices:\n",
        "      return pads\n",
        "    indices = [int(x) for x in indices.split(' ')]\n",
        "    for index in indices:\n",
        "      pads[index] = 1\n",
        "    return pads"
      ],
      "metadata": {
        "id": "87H_2p5LfEI-"
      },
      "execution_count": 14,
      "outputs": []
    },
    {
      "cell_type": "markdown",
      "source": [
        "* Labels decompressed as expected output for the forecasting neural network"
      ],
      "metadata": {
        "id": "jn57URSHvVbs"
      }
    },
    {
      "cell_type": "code",
      "source": [
        "forecasting_neural_network_expected_output_labels = df_dataset.iloc[first_tweet:last_tweet, 1:2].apply(from_indices_to_boolean_vector, axis=1, result_type='expand')"
      ],
      "metadata": {
        "id": "4J6BZN1EfK_w"
      },
      "execution_count": 15,
      "outputs": []
    },
    {
      "cell_type": "markdown",
      "source": [
        "# Forecasting neural network"
      ],
      "metadata": {
        "id": "6-WjbYyQe0ZG"
      }
    },
    {
      "cell_type": "markdown",
      "source": [
        "* Forecasting neural network input and output shapes"
      ],
      "metadata": {
        "id": "be4j4-5Hvee7"
      }
    },
    {
      "cell_type": "code",
      "source": [
        "forecasting_neural_network_input_shape = forecasting_neural_network_input_data.shape[1]\n",
        "forecasting_neural_network_output_shape = len(TOP_HASHTAGS)"
      ],
      "metadata": {
        "id": "BLP1KhHP6CGy"
      },
      "execution_count": 16,
      "outputs": []
    },
    {
      "cell_type": "markdown",
      "source": [
        "* Forecasting neural network input layer"
      ],
      "metadata": {
        "id": "tGPb0AcCvakr"
      }
    },
    {
      "cell_type": "code",
      "source": [
        "forecasting_neural_network_input_layer = tf.keras.layers.InputLayer(\n",
        "    input_shape=(forecasting_neural_network_input_shape),\n",
        "    )"
      ],
      "metadata": {
        "id": "NWak3j1pf-K8"
      },
      "execution_count": 17,
      "outputs": []
    },
    {
      "cell_type": "markdown",
      "source": [
        "* Forecasting neural network model"
      ],
      "metadata": {
        "id": "jqk3H09mvitb"
      }
    },
    {
      "cell_type": "code",
      "source": [
        "forecasting_neural_network = tf.keras.Sequential([\n",
        "                          forecasting_neural_network_input_layer,\n",
        "                          #tf.keras.layers.Dense(256, activation='relu'),   \n",
        "                          #tf.keras.layers.Dense(128, activation='relu'),\n",
        "                          tf.keras.layers.Dense((forecasting_neural_network_input_shape / 2), activation='relu'),\n",
        "                          tf.keras.layers.Dense((forecasting_neural_network_input_shape / 4), activation='relu'),\n",
        "                          tf.keras.layers.Dense(forecasting_neural_network_output_shape, activation='sigmoid')\n",
        "                          ])\n",
        "\n",
        "forecasting_neural_network.compile(\n",
        "    optimizer='adam',\n",
        "    loss='binary_crossentropy',\n",
        "    metrics=['binary_accuracy']\n",
        "    )\n",
        "\n",
        "#forecasting_neural_network.build()\n",
        "\n",
        "forecasting_neural_network.summary()\n",
        "\n",
        "tf.keras.utils.plot_model(\n",
        "    forecasting_neural_network,\n",
        "    to_file=\"Forecasting neural network.png\", \n",
        "    show_shapes=True, \n",
        "    show_dtype=True, \n",
        "    show_layer_names=True, \n",
        "    show_layer_activations=True\n",
        "    )"
      ],
      "metadata": {
        "colab": {
          "base_uri": "https://localhost:8080/",
          "height": 805
        },
        "id": "_GqJtli8gBD1",
        "outputId": "bde85929-caaf-4471-81d8-b97bd105bb7e"
      },
      "execution_count": 18,
      "outputs": [
        {
          "output_type": "stream",
          "name": "stdout",
          "text": [
            "Model: \"sequential_1\"\n",
            "_________________________________________________________________\n",
            " Layer (type)                Output Shape              Param #   \n",
            "=================================================================\n",
            " dense (Dense)               (None, 250)               125250    \n",
            "                                                                 \n",
            " dense_1 (Dense)             (None, 125)               31375     \n",
            "                                                                 \n",
            " dense_2 (Dense)             (None, 100)               12600     \n",
            "                                                                 \n",
            "=================================================================\n",
            "Total params: 169,225\n",
            "Trainable params: 169,225\n",
            "Non-trainable params: 0\n",
            "_________________________________________________________________\n"
          ]
        },
        {
          "output_type": "execute_result",
          "data": {
            "text/plain": [
              "<IPython.core.display.Image object>"
            ],
            "image/png": "[encoded data removed]"
          },
          "metadata": {},
          "execution_count": 18
        }
      ]
    },
    {
      "cell_type": "markdown",
      "source": [
        "# Training"
      ],
      "metadata": {
        "id": "WH2rZc33hLJM"
      }
    },
    {
      "cell_type": "markdown",
      "source": [
        "* Split dataset into training and test data"
      ],
      "metadata": {
        "id": "yU9HteVrvvk7"
      }
    },
    {
      "cell_type": "code",
      "source": [
        "X_train, X_test, Y_train, Y_test = train_test_split(forecasting_neural_network_input_data, forecasting_neural_network_expected_output_labels, test_size=0.3, random_state=random.randint(0, 100))"
      ],
      "metadata": {
        "id": "QVl_GkVMXSnF"
      },
      "execution_count": 19,
      "outputs": []
    },
    {
      "cell_type": "markdown",
      "source": [
        "* Forecasting neural network training"
      ],
      "metadata": {
        "id": "erACximCv0MT"
      }
    },
    {
      "cell_type": "code",
      "source": [
        "#Train model\n",
        "forecasting_neural_network.fit(\n",
        "    x=X_train, y=Y_train,\n",
        "    validation_split=0.2,\n",
        "    epochs=10,\n",
        "    shuffle=True,\n",
        "    callbacks=[PlotLossesKeras()]\n",
        "    )"
      ],
      "metadata": {
        "colab": {
          "base_uri": "https://localhost:8080/",
          "height": 744
        },
        "id": "Z6mw_Qi8hOBe",
        "outputId": "61f1852a-db6b-48a2-bf9f-6f4bec6119af"
      },
      "execution_count": 20,
      "outputs": [
        {
          "output_type": "display_data",
          "data": {
            "text/plain": [
              "<Figure size 864x576 with 2 Axes>"
            ],
            "image/png": "[encoded data removed]"
          },
          "metadata": {
            "needs_background": "light"
          }
        },
        {
          "output_type": "stream",
          "name": "stdout",
          "text": [
            "binary_accuracy\n",
            "\ttraining         \t (min:    0.984, max:    0.992, cur:    0.992)\n",
            "\tvalidation       \t (min:    0.987, max:    0.991, cur:    0.991)\n",
            "Loss\n",
            "\ttraining         \t (min:    0.033, max:    0.059, cur:    0.033)\n",
            "\tvalidation       \t (min:    0.034, max:    0.051, cur:    0.034)\n",
            "\b\b\b\b\b\b\b\b\b\b\b\b\b\b\b\b\b\b\b\b\b\b\b\b\b\b\b\b\b\b\b\b\b\b\b\b\b\b\b\b\b\b\b\b\b\b\b\b\b\b\b\b\b\b\b\b\b\b\b\b\b\b\b\b\b\b\b\b\b\b\b\b\b\b\b\b\b\b\b\b\b\b\b\b\b\b\b\b\b\b\b\b\b\r8750/8750 [==============================] - 37s 4ms/step - loss: 0.0326 - binary_accuracy: 0.9916 - val_loss: 0.0344 - val_binary_accuracy: 0.9914\n"
          ]
        },
        {
          "output_type": "execute_result",
          "data": {
            "text/plain": [
              "<keras.callbacks.History at 0x7fda77753990>"
            ]
          },
          "metadata": {},
          "execution_count": 20
        }
      ]
    },
    {
      "cell_type": "markdown",
      "source": [
        "# Testing"
      ],
      "metadata": {
        "id": "vZ4k6c4NhMxc"
      }
    },
    {
      "cell_type": "markdown",
      "source": [
        "* Forecasting neural network testing"
      ],
      "metadata": {
        "id": "gIAhenX0v5ff"
      }
    },
    {
      "cell_type": "code",
      "source": [
        "#Test model\n",
        "forecasting_neural_network.evaluate(\n",
        "    x=X_test, y=Y_test,\n",
        "    )"
      ],
      "metadata": {
        "colab": {
          "base_uri": "https://localhost:8080/"
        },
        "id": "qiKCCSUNhb1M",
        "outputId": "b18c3dab-829d-4fb2-e113-b17a0ecbc966"
      },
      "execution_count": 21,
      "outputs": [
        {
          "output_type": "stream",
          "name": "stdout",
          "text": [
            "4688/4688 [==============================] - 9s 2ms/step - loss: 0.0342 - binary_accuracy: 0.9915\n"
          ]
        },
        {
          "output_type": "execute_result",
          "data": {
            "text/plain": [
              "[0.0342094749212265, 0.9914880990982056]"
            ]
          },
          "metadata": {},
          "execution_count": 21
        }
      ]
    },
    {
      "cell_type": "markdown",
      "source": [
        "# Playground"
      ],
      "metadata": {
        "id": "OqdOiTFQaRTr"
      }
    },
    {
      "cell_type": "markdown",
      "source": [
        "* Match hashtags with probabilities"
      ],
      "metadata": {
        "id": "7x3fwoYXjPdf"
      }
    },
    {
      "cell_type": "code",
      "source": [
        "with open(\"/content/AMD_DeepLearning/src/top_hashtags_reverse_index.json\", \"r\") as input_file:\n",
        "    top_tags = json.load(input_file)\n",
        "\n",
        "def hashtags_with_probabilities(probabilities):\n",
        "  tags = list()\n",
        "  for index in range(len(probabilities[0])):\n",
        "    tags.append((top_tags[str(index)], str(round(probabilities[0][index] * 100, 2))  + \"%\"))\n",
        "  return tags\n",
        "\n",
        "def hashtags_forecast(tweet):\n",
        "  tweet_embeddings = embedding_neural_network.predict([tweet])\n",
        "  probabilites = forecasting_neural_network.predict([tweet_embeddings])\n",
        "  return hashtags_with_probabilities(probabilites)\n",
        "\n",
        "def tweets_to_forecast(tweets_list):\n",
        "  for tweet in tweets_list:\n",
        "    tweet_result = hashtags_forecast(tweet)\n",
        "    print(tweet + \" : \" + str(tweet_result) + \"\\n\")"
      ],
      "metadata": {
        "id": "kiedYS25a2zt"
      },
      "execution_count": 102,
      "outputs": []
    },
    {
      "cell_type": "markdown",
      "source": [
        "* Try it yourself!"
      ],
      "metadata": {
        "id": "yewsxZ6Zje_4"
      }
    },
    {
      "cell_type": "code",
      "source": [
        "#Type here a tweet of just words to receive its hashtags forecast\n",
        "tweets_to_get_hashtags_forecast = [\"Putin is the Russian president\",\n",
        "                                   \"War in Ukraine\",\n",
        "                                   \"Mariupol is under siege\"]\n",
        "\n",
        "tweets_to_forecast(tweets_to_get_hashtags_forecast)"
      ],
      "metadata": {
        "colab": {
          "base_uri": "https://localhost:8080/"
        },
        "id": "atltmWe8gQ6D",
        "outputId": "359f0d77-f9d8-4060-d58e-201919189fa2"
      },
      "execution_count": 101,
      "outputs": [
        {
          "output_type": "stream",
          "name": "stdout",
          "text": [
            "Putin is the Russian president : [('ukraine', '32.47%'), ('russia', '22.85%'), ('standwithukraine', '14.24%'), ('putin', '15.91%'), ('russian', '8.26%'), ('mariupol', '2.3%'), ('ukrainerussiawar', '6.25%'), ('nato', '1.42%'), ('tigray', '2.47%'), ('ukrainewar', '1.24%'), ('kyiv', '3.86%'), ('ukrainian', '4.61%'), ('stoprussia', '4.45%'), ('news', '2.73%'), ('armukrainenow', '7.45%'), ('russiaukrainewar', '6.34%'), ('usa', '3.12%'), ('stopputin', '0.42%'), ('kharkiv', '1.51%'), ('slavaukraini', '1.48%'), ('bucha', '1.57%'), ('ukrainerussianwar', '2.57%'), ('biden', '2.55%'), ('ukraineunderattack', '0.74%'), ('business', '2.86%'), ('war', '0.93%'), ('russianukrainianwar', '3.34%'), ('stopputinnow', '2.86%'), ('azovstal', '0.27%'), ('eu', '0.61%'), ('ukraine️', '0.95%'), ('kherson', '4.61%'), ('anonymous', '0.49%'), ('standwithukraine️', '0.75%'), ('russianwarcrimes', '0.77%'), ('china', '1.09%'), ('us', '0.25%'), ('tigraygenocide', '0.38%'), ('russians', '0.06%'), ('zelensky', '3.7%'), ('russianarmy', '0.07%'), ('europe', '0.51%'), ('endtigraysiege', '0.12%'), ('nft', '2.35%'), ('russiaukraine', '0.0%'), ('belarus', '1.65%'), ('breaking', '0.03%'), ('ukrainerussia', '0.0%'), ('ethiopia', '0.43%'), ('poland', '0.0%'), ('buchamassacre', '2.07%'), ('ukraineunderattaсk', '1.29%'), ('warcrimes', '1.27%'), ('freeukraine', '0.42%'), ('germany', '0.34%'), ('zelenskyy', '0.78%'), ('safeairliftukraine', '1.23%'), ('donetsk', '0.03%'), ('donbass', '0.57%'), ('putinisawarcriminal', '0.55%'), ('stopwar', '1.46%'), ('ukrainians', '0.64%'), ('moscow', '0.9%'), ('kiev', '1.21%'), ('ukraineinvasion', '0.16%'), ('stoprussianaggression', '1.39%'), ('putinwarcriminal', '0.3%'), ('finland', '1.99%'), ('trump', '0.59%'), ('azov', '0.96%'), ('uk', '0.51%'), ('russiainvadedukraine', '0.49%'), ('stopthewar', '0.18%'), ('oprussia', '0.88%'), ('canada', '1.34%'), ('putinswar', '0.78%'), ('russiaukraineconflict', '0.77%'), ('putinwarcrimes', '0.48%'), ('nfts', '0.58%'), ('warinukraine', '0.35%'), ('syria', '0.03%'), ('india', '0.0%'), ('peace', '0.1%'), ('sweden', '0.53%'), ('tigraycantwait', '0.98%'), ('savemariupol', '0.26%'), ('standupforukraine', '0.03%'), ('humanitycomesfirst', '0.93%'), ('helpukraine', '1.37%'), ('supportukraine', '0.35%'), ('odessa', '0.21%'), ('ausgov', '0.63%'), ('severodonetsk', '0.06%'), ('eurovision', '4.21%'), ('luhansk', '0.98%'), ('nftcommunity', '0.13%'), ('irpin', '0.06%'), ('crypto', '0.05%'), ('bitcoin', '0.64%'), ('chernihiv', '0.85%')]\n",
            "\n",
            "War in Ukraine : [('ukraine', '26.76%'), ('russia', '9.14%'), ('standwithukraine', '11.59%'), ('putin', '5.57%'), ('russian', '1.47%'), ('mariupol', '2.47%'), ('ukrainerussiawar', '1.7%'), ('nato', '0.9%'), ('tigray', '2.2%'), ('ukrainewar', '4.04%'), ('kyiv', '0.87%'), ('ukrainian', '3.17%'), ('stoprussia', '4.76%'), ('news', '0.81%'), ('armukrainenow', '4.67%'), ('russiaukrainewar', '8.52%'), ('usa', '1.12%'), ('stopputin', '1.39%'), ('kharkiv', '2.11%'), ('slavaukraini', '1.58%'), ('bucha', '0.49%'), ('ukrainerussianwar', '1.1%'), ('biden', '5.07%'), ('ukraineunderattack', '0.74%'), ('business', '2.94%'), ('war', '0.52%'), ('russianukrainianwar', '2.49%'), ('stopputinnow', '2.98%'), ('azovstal', '0.63%'), ('eu', '0.29%'), ('ukraine️', '0.06%'), ('kherson', '1.65%'), ('anonymous', '0.15%'), ('standwithukraine️', '0.84%'), ('russianwarcrimes', '0.77%'), ('china', '0.2%'), ('us', '0.14%'), ('tigraygenocide', '0.18%'), ('russians', '0.06%'), ('zelensky', '0.96%'), ('russianarmy', '0.1%'), ('europe', '0.57%'), ('endtigraysiege', '0.76%'), ('nft', '0.68%'), ('russiaukraine', '0.0%'), ('belarus', '1.2%'), ('breaking', '0.18%'), ('ukrainerussia', '0.0%'), ('ethiopia', '0.26%'), ('poland', '0.0%'), ('buchamassacre', '0.42%'), ('ukraineunderattaсk', '0.66%'), ('warcrimes', '0.11%'), ('freeukraine', '0.36%'), ('germany', '0.1%'), ('zelenskyy', '0.3%'), ('safeairliftukraine', '0.21%'), ('donetsk', '0.06%'), ('donbass', '0.15%'), ('putinisawarcriminal', '1.17%'), ('stopwar', '0.8%'), ('ukrainians', '0.59%'), ('moscow', '0.41%'), ('kiev', '0.39%'), ('ukraineinvasion', '0.02%'), ('stoprussianaggression', '0.13%'), ('putinwarcriminal', '0.27%'), ('finland', '0.32%'), ('trump', '0.5%'), ('azov', '0.53%'), ('uk', '0.02%'), ('russiainvadedukraine', '0.37%'), ('stopthewar', '0.21%'), ('oprussia', '0.33%'), ('canada', '0.78%'), ('putinswar', '0.01%'), ('russiaukraineconflict', '0.01%'), ('putinwarcrimes', '0.41%'), ('nfts', '0.23%'), ('warinukraine', '0.23%'), ('syria', '0.02%'), ('india', '0.0%'), ('peace', '0.11%'), ('sweden', '0.15%'), ('tigraycantwait', '1.65%'), ('savemariupol', '0.18%'), ('standupforukraine', '0.02%'), ('humanitycomesfirst', '0.45%'), ('helpukraine', '0.79%'), ('supportukraine', '0.42%'), ('odessa', '0.13%'), ('ausgov', '0.44%'), ('severodonetsk', '0.03%'), ('eurovision', '2.48%'), ('luhansk', '0.2%'), ('nftcommunity', '0.02%'), ('irpin', '0.0%'), ('crypto', '0.0%'), ('bitcoin', '0.19%'), ('chernihiv', '0.69%')]\n",
            "\n",
            "Mariupol is under siege : [('ukraine', '25.77%'), ('russia', '18.98%'), ('standwithukraine', '19.35%'), ('putin', '19.84%'), ('russian', '4.37%'), ('mariupol', '6.35%'), ('ukrainerussiawar', '3.81%'), ('nato', '1.7%'), ('tigray', '2.03%'), ('ukrainewar', '3.36%'), ('kyiv', '8.25%'), ('ukrainian', '2.53%'), ('stoprussia', '3.76%'), ('news', '2.57%'), ('armukrainenow', '6.25%'), ('russiaukrainewar', '0.91%'), ('usa', '5.75%'), ('stopputin', '0.3%'), ('kharkiv', '3.69%'), ('slavaukraini', '3.74%'), ('bucha', '1.78%'), ('ukrainerussianwar', '2.04%'), ('biden', '2.26%'), ('ukraineunderattack', '2.85%'), ('business', '10.47%'), ('war', '1.26%'), ('russianukrainianwar', '3.19%'), ('stopputinnow', '2.48%'), ('azovstal', '2.28%'), ('eu', '2.63%'), ('ukraine️', '0.23%'), ('kherson', '3.87%'), ('anonymous', '0.52%'), ('standwithukraine️', '0.88%'), ('russianwarcrimes', '0.54%'), ('china', '0.22%'), ('us', '0.2%'), ('tigraygenocide', '1.35%'), ('russians', '0.12%'), ('zelensky', '1.66%'), ('russianarmy', '0.02%'), ('europe', '1.2%'), ('endtigraysiege', '0.7%'), ('nft', '4.92%'), ('russiaukraine', '0.0%'), ('belarus', '3.77%'), ('breaking', '0.01%'), ('ukrainerussia', '0.0%'), ('ethiopia', '0.8%'), ('poland', '0.03%'), ('buchamassacre', '2.37%'), ('ukraineunderattaсk', '0.88%'), ('warcrimes', '0.16%'), ('freeukraine', '0.45%'), ('germany', '0.13%'), ('zelenskyy', '1.02%'), ('safeairliftukraine', '2.24%'), ('donetsk', '0.28%'), ('donbass', '0.45%'), ('putinisawarcriminal', '1.79%'), ('stopwar', '1.2%'), ('ukrainians', '0.58%'), ('moscow', '0.76%'), ('kiev', '1.32%'), ('ukraineinvasion', '0.03%'), ('stoprussianaggression', '2.48%'), ('putinwarcriminal', '2.02%'), ('finland', '0.93%'), ('trump', '0.41%'), ('azov', '3.64%'), ('uk', '0.02%'), ('russiainvadedukraine', '1.27%'), ('stopthewar', '0.13%'), ('oprussia', '0.62%'), ('canada', '0.74%'), ('putinswar', '0.68%'), ('russiaukraineconflict', '0.66%'), ('putinwarcrimes', '0.2%'), ('nfts', '1.37%'), ('warinukraine', '0.59%'), ('syria', '0.12%'), ('india', '0.01%'), ('peace', '0.03%'), ('sweden', '0.75%'), ('tigraycantwait', '2.58%'), ('savemariupol', '0.53%'), ('standupforukraine', '0.04%'), ('humanitycomesfirst', '1.78%'), ('helpukraine', '0.28%'), ('supportukraine', '0.39%'), ('odessa', '0.81%'), ('ausgov', '1.85%'), ('severodonetsk', '0.05%'), ('eurovision', '1.0%'), ('luhansk', '2.38%'), ('nftcommunity', '0.2%'), ('irpin', '0.01%'), ('crypto', '0.01%'), ('bitcoin', '0.27%'), ('chernihiv', '0.41%')]\n",
            "\n"
          ]
        }
      ]
    }
  ]
}